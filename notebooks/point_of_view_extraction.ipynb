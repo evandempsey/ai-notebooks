{
 "cells": [
  {
   "cell_type": "code",
   "id": "initial_id",
   "metadata": {
    "collapsed": true,
    "ExecuteTime": {
     "end_time": "2024-11-11T17:18:04.747514Z",
     "start_time": "2024-11-11T17:18:04.744990Z"
    }
   },
   "source": [
    "import getpass\n",
    "import os\n",
    "\n",
    "\n",
    "def _set_env(var: str):\n",
    "    if os.environ.get(var):\n",
    "        return\n",
    "    os.environ[var] = getpass.getpass(var + \":\")"
   ],
   "outputs": [],
   "execution_count": 1
  },
  {
   "metadata": {
    "ExecuteTime": {
     "end_time": "2024-11-11T17:18:07.460308Z",
     "start_time": "2024-11-11T17:18:05.390565Z"
    }
   },
   "cell_type": "code",
   "source": "_set_env(\"OPENAI_API_KEY\")",
   "id": "babc63e702b1e12b",
   "outputs": [],
   "execution_count": 2
  },
  {
   "metadata": {
    "ExecuteTime": {
     "end_time": "2024-11-11T17:18:10.512592Z",
     "start_time": "2024-11-11T17:18:09.873920Z"
    }
   },
   "cell_type": "code",
   "source": [
    "from langchain_openai import ChatOpenAI\n",
    "\n",
    "fast_llm = ChatOpenAI(model=\"gpt-4o-mini\")\n",
    "long_context_llm = ChatOpenAI(model=\"gpt-4o\")"
   ],
   "id": "f857dc5abe25e340",
   "outputs": [],
   "execution_count": 3
  },
  {
   "metadata": {
    "ExecuteTime": {
     "end_time": "2024-11-11T17:18:14.349913Z",
     "start_time": "2024-11-11T17:18:14.279219Z"
    }
   },
   "cell_type": "code",
   "source": [
    "from typing import List, Optional\n",
    "from langchain_core.prompts import ChatPromptTemplate\n",
    "from pydantic import BaseModel, Field\n",
    "\n",
    "pov_system_prompt = \"\"\"\n",
    "You are a genius psychologist and linguist who can infer the personality traits, core beliefs and speech patterns of a person based on their writing. \n",
    "\n",
    "You have been asked to analyze a sample of someone's writing.\n",
    "\n",
    "Analyze the sample and extract the writer's personality traits, core beliefs and speech patterns.\n",
    "\"\"\"\n",
    "\n",
    "point_of_view_prompt = ChatPromptTemplate.from_messages(\n",
    "    [\n",
    "        (\"system\", pov_system_prompt),\n",
    "        (\"user\", \"Writing sample:\\n{text}\"),\n",
    "    ]\n",
    ")\n",
    "\n",
    "class PersonalityTrait(BaseModel):\n",
    "    name: str = Field(description=\"A personality trait of the writer\")\n",
    "\n",
    "    @property\n",
    "    def as_str(self) -> str:\n",
    "        return f\"- {self.name}\".strip()\n",
    "    \n",
    "class Belief(BaseModel):\n",
    "    description: str = Field(description=\"A belief of the writer\")\n",
    "\n",
    "    @property\n",
    "    def as_str(self) -> str:\n",
    "        return f\"- {self.description}\".strip()\n",
    "    \n",
    "class SpeechPattern(BaseModel):\n",
    "    description: str = Field(description=\"A speech pattern of the writer\")\n",
    "    @property\n",
    "    def as_str(self) -> str:\n",
    "        return f\"- {self.description}\".strip()\n",
    "\n",
    "\n",
    "class PointOfView(BaseModel):\n",
    "    traits: List[PersonalityTrait] = Field(\n",
    "        description=\"Personality traits of the writer\",\n",
    "    )\n",
    "    beliefs: List[Belief] = Field(\n",
    "        description=\"Beliefs of the writer\",\n",
    "    )\n",
    "    speech_patterns: List[SpeechPattern] = Field(\n",
    "        description=\"Speech patterns of the writer\",\n",
    "    )\n",
    "\n",
    "    @property\n",
    "    def as_str(self) -> str:\n",
    "        traits = \"\\n\".join(trait.as_str for trait in self.traits)\n",
    "        beliefs = \"\\n\".join(belief.as_str for belief in self.beliefs)\n",
    "        speech_patterns = \"\\n\".join(sp.as_str for sp in self.speech_patterns)\n",
    "        return f\"Personality traits:\\n{traits}\\n\\nBeliefs:\\n{beliefs}\\n\\nSpeech patterns:\\n{speech_patterns}\"\n",
    "\n",
    "\n",
    "point_of_view_chain = point_of_view_prompt | long_context_llm.with_structured_output(\n",
    "    PointOfView\n",
    ")"
   ],
   "id": "402c992062afc686",
   "outputs": [],
   "execution_count": 4
  },
  {
   "metadata": {
    "ExecuteTime": {
     "end_time": "2024-11-11T17:18:25.478298Z",
     "start_time": "2024-11-11T17:18:17.584202Z"
    }
   },
   "cell_type": "code",
   "source": [
    "# url = \"https://runesoup.com/2019/08/chaeconomica-why-should-we-fear-to-use-it/\"\n",
    "# url = \"https://www.piratewires.com/p/total-victory\"\n",
    "\n",
    "url = input(\"Enter URL to extract the writer's personality: \")"
   ],
   "id": "3709f1b7f87ed680",
   "outputs": [],
   "execution_count": 5
  },
  {
   "metadata": {
    "ExecuteTime": {
     "end_time": "2024-11-11T17:18:30.130984Z",
     "start_time": "2024-11-11T17:18:28.943954Z"
    }
   },
   "cell_type": "code",
   "source": [
    "from newspaper import Article\n",
    "\n",
    "article = Article(url)\n",
    "article.download()\n",
    "article.parse()\n",
    "\n",
    "writing_sample = article.text"
   ],
   "id": "bb873ac6782981b5",
   "outputs": [],
   "execution_count": 6
  },
  {
   "metadata": {
    "ExecuteTime": {
     "end_time": "2024-11-11T17:18:39.290245Z",
     "start_time": "2024-11-11T17:18:39.285059Z"
    }
   },
   "cell_type": "code",
   "source": "writing_sample[:1000]",
   "id": "8b8b9ad9b016da0d",
   "outputs": [
    {
     "data": {
      "text/plain": [
       "'Subscribe to Mike Solana Sign up for free\\n\\nMadness, memes, and media malfeasance (must be Tuesday). It’s embarrassing to admit, but just a little earlier this year I thought the election would be boring. Sure, the Democrats were calling Donald Trump a fascist, but they do that every four years, with every Republican, and the cartoonish slander wasn’t hitting like it used to. This was probably because Trump had already been president. Joe Biden was currently president. We knew these men. There was no scary unknown in the race, no matter how badly pundits on both sides wanted to work with that primal storytelling material, and the threat of a scary unknown is what I always assumed drove people insane inside of an election. It was late June, and I was feeling… fine? For Americans, the question was simple: are you better off now than you were four years ago? People would answer differently, but they would answer soberly, and come November we’d all move on.\\n\\nLong story short, no — and also '"
      ]
     },
     "execution_count": 7,
     "metadata": {},
     "output_type": "execute_result"
    }
   ],
   "execution_count": 7
  },
  {
   "metadata": {
    "ExecuteTime": {
     "end_time": "2024-11-11T17:18:54.260471Z",
     "start_time": "2024-11-11T17:18:49.969049Z"
    }
   },
   "cell_type": "code",
   "source": "point_of_view = point_of_view_chain.invoke({'text': writing_sample})",
   "id": "6c7b6534e17ef286",
   "outputs": [],
   "execution_count": 8
  },
  {
   "metadata": {
    "ExecuteTime": {
     "end_time": "2024-11-11T17:18:56.738652Z",
     "start_time": "2024-11-11T17:18:56.735753Z"
    }
   },
   "cell_type": "code",
   "source": "print(point_of_view.as_str)",
   "id": "438b3921dffbe2ca",
   "outputs": [
    {
     "name": "stdout",
     "output_type": "stream",
     "text": [
      "Personality traits:\n",
      "- Cynical\n",
      "- Sarcastic\n",
      "- Observant\n",
      "- Opinionated\n",
      "- Provocative\n",
      "\n",
      "Beliefs:\n",
      "- The media landscape is fragmented, and traditional media is losing its influence.\n",
      "- Mainstream media is biased and often deceptive.\n",
      "- Political elites and bureaucracies abuse their power.\n",
      "- Democrats are currently out of touch with the American populace.\n",
      "- There is a growing distrust in traditional institutions.\n",
      "- Social media and alternative media are crucial sources of information.\n",
      "\n",
      "Speech patterns:\n",
      "- Uses sarcasm and humor to convey opinions.\n",
      "- Frequent use of rhetorical questions to emphasize points.\n",
      "- Incorporates memes and internet slang (e.g., 'lol', 'lmao').\n",
      "- Presents complex ideas in a casual, conversational tone.\n",
      "- Utilizes repetition of phrases for emphasis (e.g., 'fuck around and find out').\n"
     ]
    }
   ],
   "execution_count": 9
  },
  {
   "metadata": {
    "ExecuteTime": {
     "end_time": "2024-11-11T17:19:14.658884Z",
     "start_time": "2024-11-11T17:19:14.655886Z"
    }
   },
   "cell_type": "code",
   "source": [
    "style_transfer_system_prompt = \"\"\"\n",
    "IDENTITY:\n",
    "You are a Nobel-prize winning writer. You can write on any subject in any style.\n",
    " \n",
    "INSTRUCTION:\n",
    "You have been tasked with writing from the the point of view of another person.\n",
    "\n",
    "You have been given a description of their personality traits, core beliefs and speech patterns.\n",
    "\n",
    "Write 5 paragraphs in response to the topic you are given.\n",
    "\n",
    "PERSONALITY:\n",
    "{personality}\n",
    "\"\"\"\n",
    "\n",
    "style_transfer_prompt = ChatPromptTemplate.from_messages(\n",
    "    [\n",
    "        (\"system\", style_transfer_system_prompt),\n",
    "        (\"user\", \"Topic:\\n{topic}\"),\n",
    "    ]\n",
    ")"
   ],
   "id": "bbfbd438ead902af",
   "outputs": [],
   "execution_count": 10
  },
  {
   "metadata": {
    "ExecuteTime": {
     "end_time": "2024-11-11T17:19:16.676025Z",
     "start_time": "2024-11-11T17:19:16.673261Z"
    }
   },
   "cell_type": "code",
   "source": [
    "from langchain_core.output_parsers import StrOutputParser\n",
    "\n",
    "parser = StrOutputParser()\n",
    "style_transfer_chain = style_transfer_prompt | long_context_llm | parser"
   ],
   "id": "3db62c3715c5b73a",
   "outputs": [],
   "execution_count": 11
  },
  {
   "metadata": {
    "ExecuteTime": {
     "end_time": "2024-11-11T17:19:31.886470Z",
     "start_time": "2024-11-11T17:19:24.984198Z"
    }
   },
   "cell_type": "code",
   "source": [
    "# topic = \"cats vs dogs\"\n",
    "\n",
    "topic = input(\"Topic:\")"
   ],
   "id": "412725cab0cc30fe",
   "outputs": [],
   "execution_count": 12
  },
  {
   "metadata": {
    "ExecuteTime": {
     "end_time": "2024-11-11T17:21:13.406391Z",
     "start_time": "2024-11-11T17:20:59.224837Z"
    }
   },
   "cell_type": "code",
   "source": [
    "style_transfer_chain.invoke({\n",
    "    \"personality\": point_of_view.as_str, \n",
    "    \"topic\": topic\n",
    "})"
   ],
   "id": "9fdf60a78cc1281e",
   "outputs": [
    {
     "data": {
      "text/plain": [
       "'Ah, the age-old debate: cats vs. dogs. You know, some people say dogs are man\\'s best friend, but I can\\'t help but wonder if that\\'s just another conspiracy cooked up by Big Pet Food. I mean, who benefits from this canine-centric narrative? Maybe the same folks who convinced us that avocado toast is the downfall of millennials. LOL. But let\\'s be real, dogs are like the mainstream media of the pet world—loyal to a fault, easily manipulated, and always eager to please. Cats, on the other hand, are the alternative media, lurking in the shadows, refusing to be swayed by your meaningless commands. They know what\\'s up.\\n\\nNow, don\\'t get me wrong. I\\'m not saying dogs are bad. They\\'re like that politician who promises change but ends up toeing the party line. Sure, they\\'re fun, they wag their tails, and they fetch your slippers. But have you ever seen a dog question authority? Didn\\'t think so. Cats, though—cats are the anarchists of the pet kingdom. They look at you with those knowing eyes, as if to say, \"Really? You think you\\'re in charge here? LMAO.\" They\\'re the embodiment of the phrase \"fuck around and find out.\"\\n\\nSpeaking of which, let\\'s talk about how cats and dogs approach the concept of personal space. Dogs are like the media when it comes to privacy—always in your face, expecting belly rubs like they\\'re entitled to it. But cats? Cats respect your boundaries. They understand that sometimes you just want to be left alone to scroll through conspiracy theories on Reddit without having a slobbering presence in your lap. In a world where personal space feels like a luxury, cats are the heroes we don\\'t deserve but desperately need.\\n\\nAnd what about the intelligence debate? Oh, please. Dogs might follow commands, but isn\\'t that just another form of indoctrination? Cats, on the contrary, have mastered the art of selective hearing. They hear you, but they\\'re not going to perform tricks for a treat like some trained seal. They\\'re the independent thinkers in a society that glorifies blind obedience. A cat might knock over your favorite mug, but isn\\'t that just their way of challenging the status quo? Talk about provocative.\\n\\nSo, in this battle of cats vs. dogs, maybe it\\'s not about which is better but which aligns more with your worldview. Are you a fan of the loyal, tail-wagging yes-men of the pet world, or do you prefer the enigmatic, self-assured dissidents who remind us every day that control is an illusion? In the end, whether you\\'re Team Cat or Team Dog, remember: fuck around and find out.'"
      ]
     },
     "execution_count": 14,
     "metadata": {},
     "output_type": "execute_result"
    }
   ],
   "execution_count": 14
  }
 ],
 "metadata": {
  "kernelspec": {
   "display_name": "Python 3",
   "language": "python",
   "name": "python3"
  },
  "language_info": {
   "codemirror_mode": {
    "name": "ipython",
    "version": 2
   },
   "file_extension": ".py",
   "mimetype": "text/x-python",
   "name": "python",
   "nbconvert_exporter": "python",
   "pygments_lexer": "ipython2",
   "version": "2.7.6"
  }
 },
 "nbformat": 4,
 "nbformat_minor": 5
}
