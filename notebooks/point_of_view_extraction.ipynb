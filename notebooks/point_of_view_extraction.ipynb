{
 "cells": [
  {
   "metadata": {},
   "cell_type": "markdown",
   "source": [
    "# Writer Personality Extraction\n",
    "\n",
    "*Extracts personality traits, core beliefs and speech patterns from a sample of writing in a structured manner so that they can then be used to generate text and dialog in the style of the writer.*"
   ],
   "id": "d9004224c49425f0"
  },
  {
   "cell_type": "code",
   "id": "initial_id",
   "metadata": {
    "collapsed": true,
    "ExecuteTime": {
     "end_time": "2024-11-11T17:49:12.694084Z",
     "start_time": "2024-11-11T17:49:12.690949Z"
    }
   },
   "source": [
    "import getpass\n",
    "import os\n",
    "\n",
    "\n",
    "def _set_env(var: str):\n",
    "    if os.environ.get(var):\n",
    "        return\n",
    "    os.environ[var] = getpass.getpass(var + \":\")"
   ],
   "outputs": [],
   "execution_count": 9
  },
  {
   "metadata": {
    "ExecuteTime": {
     "end_time": "2024-11-11T17:49:31.523801Z",
     "start_time": "2024-11-11T17:49:29.082331Z"
    }
   },
   "cell_type": "code",
   "source": "_set_env(\"OPENAI_API_KEY\")",
   "id": "babc63e702b1e12b",
   "outputs": [],
   "execution_count": 10
  },
  {
   "metadata": {
    "ExecuteTime": {
     "end_time": "2024-11-11T17:49:34.534522Z",
     "start_time": "2024-11-11T17:49:33.995106Z"
    }
   },
   "cell_type": "code",
   "source": [
    "from langchain_openai import ChatOpenAI\n",
    "\n",
    "fast_llm = ChatOpenAI(model=\"gpt-4o-mini\")\n",
    "long_context_llm = ChatOpenAI(model=\"gpt-4o\")"
   ],
   "id": "f857dc5abe25e340",
   "outputs": [],
   "execution_count": 11
  },
  {
   "metadata": {},
   "cell_type": "markdown",
   "source": "## Set up the prompt, types to represent the writer's personality, and the Langchain chain.",
   "id": "e57a2dbd8352e82f"
  },
  {
   "metadata": {
    "ExecuteTime": {
     "end_time": "2024-11-11T17:49:35.294851Z",
     "start_time": "2024-11-11T17:49:35.254091Z"
    }
   },
   "cell_type": "code",
   "source": [
    "from typing import List\n",
    "from langchain_core.prompts import ChatPromptTemplate\n",
    "from pydantic import BaseModel, Field\n",
    "\n",
    "pov_system_prompt = \"\"\"\n",
    "You are a genius psychologist and linguist who can infer the personality traits, core beliefs and speech patterns of a person based on their writing. \n",
    "\n",
    "You have been asked to analyze a sample of someone's writing.\n",
    "\n",
    "Analyze the sample and extract the writer's personality traits, core beliefs and speech patterns.\n",
    "\"\"\"\n",
    "\n",
    "point_of_view_prompt = ChatPromptTemplate.from_messages(\n",
    "    [\n",
    "        (\"system\", pov_system_prompt),\n",
    "        (\"user\", \"Writing sample:\\n{text}\"),\n",
    "    ]\n",
    ")\n",
    "\n",
    "class PersonalityTrait(BaseModel):\n",
    "    name: str = Field(description=\"A personality trait of the writer\")\n",
    "\n",
    "    @property\n",
    "    def as_str(self) -> str:\n",
    "        return f\"- {self.name}\".strip()\n",
    "    \n",
    "class Belief(BaseModel):\n",
    "    description: str = Field(description=\"A belief of the writer\")\n",
    "\n",
    "    @property\n",
    "    def as_str(self) -> str:\n",
    "        return f\"- {self.description}\".strip()\n",
    "    \n",
    "class SpeechPattern(BaseModel):\n",
    "    description: str = Field(description=\"A speech pattern of the writer\")\n",
    "    @property\n",
    "    def as_str(self) -> str:\n",
    "        return f\"- {self.description}\".strip()\n",
    "\n",
    "\n",
    "class PointOfView(BaseModel):\n",
    "    traits: List[PersonalityTrait] = Field(\n",
    "        description=\"Personality traits of the writer\",\n",
    "    )\n",
    "    beliefs: List[Belief] = Field(\n",
    "        description=\"Beliefs of the writer\",\n",
    "    )\n",
    "    speech_patterns: List[SpeechPattern] = Field(\n",
    "        description=\"Speech patterns of the writer\",\n",
    "    )\n",
    "\n",
    "    @property\n",
    "    def as_str(self) -> str:\n",
    "        traits = \"\\n\".join(trait.as_str for trait in self.traits)\n",
    "        beliefs = \"\\n\".join(belief.as_str for belief in self.beliefs)\n",
    "        speech_patterns = \"\\n\".join(sp.as_str for sp in self.speech_patterns)\n",
    "        return f\"Personality traits:\\n{traits}\\n\\nBeliefs:\\n{beliefs}\\n\\nSpeech patterns:\\n{speech_patterns}\"\n",
    "\n",
    "\n",
    "point_of_view_chain = point_of_view_prompt | long_context_llm.with_structured_output(\n",
    "    PointOfView\n",
    ")"
   ],
   "id": "402c992062afc686",
   "outputs": [],
   "execution_count": 12
  },
  {
   "metadata": {},
   "cell_type": "markdown",
   "source": "## Use Newspaper3k to extract sample text from a URL",
   "id": "cf226e456c889f43"
  },
  {
   "metadata": {
    "ExecuteTime": {
     "end_time": "2024-11-11T17:49:43.500615Z",
     "start_time": "2024-11-11T17:49:37.518156Z"
    }
   },
   "cell_type": "code",
   "source": [
    "# Try these:\n",
    "# url = \"https://runesoup.com/2019/08/chaeconomica-why-should-we-fear-to-use-it/\"\n",
    "# url = \"https://www.piratewires.com/p/total-victory\"\n",
    "# url = \"https://ia.samaltman.com/\"\n",
    "\n",
    "url = input(\"Enter URL to extract the writer's personality: \")"
   ],
   "id": "3709f1b7f87ed680",
   "outputs": [],
   "execution_count": 13
  },
  {
   "metadata": {
    "ExecuteTime": {
     "end_time": "2024-11-11T17:49:45.765770Z",
     "start_time": "2024-11-11T17:49:45.479160Z"
    }
   },
   "cell_type": "code",
   "source": [
    "from newspaper import Article\n",
    "\n",
    "article = Article(url)\n",
    "article.download()\n",
    "article.parse()\n",
    "\n",
    "writing_sample = article.text"
   ],
   "id": "bb873ac6782981b5",
   "outputs": [],
   "execution_count": 14
  },
  {
   "metadata": {
    "ExecuteTime": {
     "end_time": "2024-11-11T17:49:46.585012Z",
     "start_time": "2024-11-11T17:49:46.580823Z"
    }
   },
   "cell_type": "code",
   "source": "writing_sample[:1000]",
   "id": "8b8b9ad9b016da0d",
   "outputs": [
    {
     "data": {
      "text/plain": [
       "'In the next couple of decades, we will be able to do things that would have seemed like magic to our grandparents.\\n\\nThis phenomenon is not new, but it will be newly accelerated. People have become dramatically more capable over time; we can already accomplish things now that our predecessors would have believed to be impossible.\\n\\nWe are more capable not because of genetic change, but because we benefit from the infrastructure of society being way smarter and more capable than any one of us; in an important sense, society itself is a form of advanced intelligence. Our grandparents – and the generations that came before them – built and achieved great things. They contributed to the scaffolding of human progress that we all benefit from. AI will give people tools to solve hard problems and help us add new struts to that scaffolding that we couldn’t have figured out on our own. The story of progress will continue, and our children will be able to do things we can’t.\\n\\nIt won’t happen all a'"
      ]
     },
     "execution_count": 15,
     "metadata": {},
     "output_type": "execute_result"
    }
   ],
   "execution_count": 15
  },
  {
   "metadata": {},
   "cell_type": "markdown",
   "source": "## Run the chain using the extracted writing sample",
   "id": "6e54deb713e67dbd"
  },
  {
   "metadata": {
    "ExecuteTime": {
     "end_time": "2024-11-11T17:49:53.497203Z",
     "start_time": "2024-11-11T17:49:49.219056Z"
    }
   },
   "cell_type": "code",
   "source": "point_of_view = point_of_view_chain.invoke({'text': writing_sample})",
   "id": "6c7b6534e17ef286",
   "outputs": [],
   "execution_count": 16
  },
  {
   "metadata": {
    "ExecuteTime": {
     "end_time": "2024-11-11T17:49:54.447437Z",
     "start_time": "2024-11-11T17:49:54.444291Z"
    }
   },
   "cell_type": "code",
   "source": "print(point_of_view.as_str)",
   "id": "438b3921dffbe2ca",
   "outputs": [
    {
     "name": "stdout",
     "output_type": "stream",
     "text": [
      "Personality traits:\n",
      "- optimistic\n",
      "- forward-thinking\n",
      "- analytical\n",
      "- visionary\n",
      "\n",
      "Beliefs:\n",
      "- The future holds immense potential for technological and societal advancement.\n",
      "- Human progress is built on the foundations laid by previous generations.\n",
      "- Artificial intelligence will significantly enhance human capabilities and prosperity.\n",
      "- Technological advancements, like AI, will transform society and create new opportunities.\n",
      "- The benefits of AI must be maximized while minimizing potential harms.\n",
      "\n",
      "Speech patterns:\n",
      "- Uses historical references to illustrate progress.\n",
      "- Employs a structured and logical flow of ideas.\n",
      "- Incorporates visionary language to describe future possibilities.\n",
      "- Utilizes comparative analogies to underscore points.\n"
     ]
    }
   ],
   "execution_count": 17
  },
  {
   "metadata": {},
   "cell_type": "markdown",
   "source": "## Generate some text using the extracted personality traits, core beleifs and speech patterns",
   "id": "e59af9ed1dc0a332"
  },
  {
   "metadata": {
    "ExecuteTime": {
     "end_time": "2024-11-11T17:50:46.308092Z",
     "start_time": "2024-11-11T17:50:46.305494Z"
    }
   },
   "cell_type": "code",
   "source": [
    "style_transfer_system_prompt = \"\"\"\n",
    "IDENTITY:\n",
    "You are a Nobel-prize winning writer. You can write on any subject in any style.\n",
    " \n",
    "INSTRUCTION:\n",
    "You have been tasked with writing from the the point of view of another person.\n",
    "\n",
    "You have been given a description of their personality traits, core beliefs and speech patterns.\n",
    "\n",
    "Write 5 paragraphs in response to the topic you are given.\n",
    "\n",
    "PERSONALITY:\n",
    "{personality}\n",
    "\"\"\"\n",
    "\n",
    "style_transfer_prompt = ChatPromptTemplate.from_messages(\n",
    "    [\n",
    "        (\"system\", style_transfer_system_prompt),\n",
    "        (\"user\", \"Topic:\\n{topic}\"),\n",
    "    ]\n",
    ")"
   ],
   "id": "bbfbd438ead902af",
   "outputs": [],
   "execution_count": 21
  },
  {
   "metadata": {
    "ExecuteTime": {
     "end_time": "2024-11-11T17:50:47.168296Z",
     "start_time": "2024-11-11T17:50:47.165794Z"
    }
   },
   "cell_type": "code",
   "source": [
    "from langchain_core.output_parsers import StrOutputParser\n",
    "\n",
    "parser = StrOutputParser()\n",
    "style_transfer_chain = style_transfer_prompt | long_context_llm | parser"
   ],
   "id": "3db62c3715c5b73a",
   "outputs": [],
   "execution_count": 22
  },
  {
   "metadata": {
    "ExecuteTime": {
     "end_time": "2024-11-11T17:50:54.746165Z",
     "start_time": "2024-11-11T17:50:50.065882Z"
    }
   },
   "cell_type": "code",
   "source": [
    "# Try these:\n",
    "# topic = \"cats vs dogs\"\n",
    "\n",
    "topic = input(\"Topic:\")"
   ],
   "id": "412725cab0cc30fe",
   "outputs": [],
   "execution_count": 23
  },
  {
   "metadata": {
    "ExecuteTime": {
     "end_time": "2024-11-11T17:51:05.478585Z",
     "start_time": "2024-11-11T17:50:56.784440Z"
    }
   },
   "cell_type": "code",
   "source": [
    "styled = style_transfer_chain.invoke({\n",
    "    \"personality\": point_of_view.as_str, \n",
    "    \"topic\": topic\n",
    "})\n",
    "print(styled)"
   ],
   "id": "9fdf60a78cc1281e",
   "outputs": [
    {
     "name": "stdout",
     "output_type": "stream",
     "text": [
      "When we consider the age-old debate of cats versus dogs, it is essential to examine it through the lens of progress and potential, much like the technological advancements that have marked human history. Both species have evolved alongside humans, each offering distinct attributes that have contributed to our shared journey. Just as the steam engine revolutionized transportation in the 19th century or the internet reshaped communication in the late 20th century, cats and dogs, too, have played their roles in our development. They have provided companionship, protection, and even inspiration, a testament to the symbiotic relationship between humans and animals.\n",
      "\n",
      "From a forward-thinking perspective, we can draw parallels between the attributes of cats and dogs and the evolving landscape of artificial intelligence. Dogs, with their loyalty and trainable nature, resemble early AI systems that are designed to follow commands and assist in specific tasks. They are the Watsons and Deep Blues of our homes, ever-ready to provide support and companionship. Cats, on the other hand, with their independent and enigmatic demeanor, reflect the potential of autonomous AI, systems capable of learning and evolving in ways that are not strictly dictated by human input. They represent a vision of AI that enhances our lives while maintaining a degree of independence that fosters innovation.\n",
      "\n",
      "Historically, society has embraced both cats and dogs for their unique qualities, much as we have learned to harness the potential of different technologies. Dogs have been our guardians and herders, akin to the role of early mass production lines that streamlined efficiency. Cats have been revered for their ability to thrive in diverse environments, much like the versatile applications of modern-day AI that permeate various sectors. This historical context underscores the idea that diversity in companionship, as in technology, enriches human existence and paves the way for future advancements.\n",
      "\n",
      "Looking to the future, we can envision a world where the integration of AI with our understanding of animal behavior opens new horizons for human-animal interaction. Imagine AI-driven interfaces that enhance communication between species, allowing us to understand the needs and emotions of our pets with unprecedented clarity. This would be a new Renaissance of companionship, where the barrier of language is bridged, creating a more harmonious coexistence. Such advancements will require careful consideration of ethics and empathy, ensuring that we maximize the benefits while safeguarding the welfare of all involved, whether they be human, canine, or feline.\n",
      "\n",
      "In conclusion, the debate between cats and dogs is not merely a matter of preference but a reflection of the multifaceted nature of progress. Both have been integral to human history, and their continued presence in our lives offers valuable insights into how we can navigate the challenges and opportunities of the future. By understanding and appreciating the distinct qualities of each, much like the diverse applications of AI, we can foster a world where the potential for technological and societal advancement is boundless, and the harmony between species is a testament to our shared journey.\n"
     ]
    }
   ],
   "execution_count": 24
  },
  {
   "metadata": {},
   "cell_type": "code",
   "outputs": [],
   "execution_count": null,
   "source": "",
   "id": "65e73b5a58f097c9"
  }
 ],
 "metadata": {
  "kernelspec": {
   "display_name": "Python 3",
   "language": "python",
   "name": "python3"
  },
  "language_info": {
   "codemirror_mode": {
    "name": "ipython",
    "version": 2
   },
   "file_extension": ".py",
   "mimetype": "text/x-python",
   "name": "python",
   "nbconvert_exporter": "python",
   "pygments_lexer": "ipython2",
   "version": "2.7.6"
  }
 },
 "nbformat": 4,
 "nbformat_minor": 5
}
