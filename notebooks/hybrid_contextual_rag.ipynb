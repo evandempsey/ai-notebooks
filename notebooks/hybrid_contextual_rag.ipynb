{
 "cells": [
  {
   "metadata": {},
   "cell_type": "markdown",
   "source": [
    "# Hybrid RAG with Contextual Chunking\n",
    "\n",
    "This notebook demonstrates how to implement RAG question answering using a few interesting techniques:\n",
    "\n",
    "1. Source documents are split in a sentence-aware manner using Spacy\n",
    "2. Document chunks are enriched with an LLM-generated context header\n",
    "3. Hybrid retrieval (embeddings and TF-IDF) is performed before generation\n",
    "4. Retrieval results are fused using Reciprocal Rank Fusion (RRF)"
   ],
   "id": "1d16276239f0483e"
  },
  {
   "metadata": {},
   "cell_type": "markdown",
   "source": "## Step 1: Extract articles and chunk on sentence boundaries",
   "id": "d7394768bafb037d"
  },
  {
   "metadata": {
    "ExecuteTime": {
     "end_time": "2024-11-13T10:22:05.972962Z",
     "start_time": "2024-11-13T10:22:05.970307Z"
    }
   },
   "cell_type": "code",
   "source": [
    "# First, we will download the articles using newspaper3k.\n",
    "\n",
    "from newspaper import Article\n",
    "\n",
    "def extract_article(url):\n",
    "    article = Article(url)\n",
    "    article.download()\n",
    "    article.parse()\n",
    "    return f'{article.title}\\n{article.text}'"
   ],
   "id": "4313cec62b53369a",
   "outputs": [],
   "execution_count": 7
  },
  {
   "cell_type": "code",
   "id": "initial_id",
   "metadata": {
    "collapsed": true,
    "ExecuteTime": {
     "end_time": "2024-11-13T10:22:09.863483Z",
     "start_time": "2024-11-13T10:22:07.209567Z"
    }
   },
   "source": [
    "urls = [\n",
    "    'https://paulgraham.com/wealth.html',\n",
    "    'https://paulgraham.com/foundermode.html',\n",
    "    'https://paulgraham.com/hwh.html'\n",
    "]\n",
    "\n",
    "articles = [{'url': url, 'text': extract_article(url)} for url in urls]"
   ],
   "outputs": [],
   "execution_count": 8
  },
  {
   "metadata": {
    "ExecuteTime": {
     "end_time": "2024-11-13T13:30:39.039052Z",
     "start_time": "2024-11-13T13:30:39.035959Z"
    }
   },
   "cell_type": "code",
   "source": [
    "# Let's take a look at one of the downloaded articles.\n",
    "\n",
    "print(articles[1])"
   ],
   "id": "11481fab80a42ece",
   "outputs": [
    {
     "name": "stdout",
     "output_type": "stream",
     "text": [
      "{'url': 'https://paulgraham.com/foundermode.html', 'text': 'Founder Mode\\n\\n\\n\\n\\n\\n\\n\\n\\nSeptember 2024\\n\\n\\n\\nAt a YC event last week Brian Chesky gave a talk that everyone who was there will remember. Most founders I talked to afterward said it was the best they\\'d ever heard. Ron Conway, for the first time in his life, forgot to take notes. I\\'m not going to try to reproduce it here. Instead I want to talk about a question it raised.\\n\\n\\n\\nThe theme of Brian\\'s talk was that the conventional wisdom about how to run larger companies is mistaken. As Airbnb grew, well-meaning people advised him that he had to run the company in a certain way for it to scale. Their advice could be optimistically summarized as \"hire good people and give them room to do their jobs.\" He followed this advice and the results were disastrous. So he had to figure out a better way on his own, which he did partly by studying how Steve Jobs ran Apple. So far it seems to be working. Airbnb\\'s free cash flow margin is now among the best in Silicon Valley.\\n\\n\\n\\nThe audience at this event included a lot of the most successful founders we\\'ve funded, and one after another said that the same thing had happened to them. They\\'d been given the same advice about how to run their companies as they grew, but instead of helping their companies, it had damaged them.\\n\\n\\n\\nWhy was everyone telling these founders the wrong thing? That was the big mystery to me. And after mulling it over for a bit I figured out the answer: what they were being told was how to run a company you hadn\\'t founded — how to run a company if you\\'re merely a professional manager. But this m.o. is so much less effective that to founders it feels broken. There are things founders can do that managers can\\'t, and not doing them feels wrong to founders, because it is.\\n\\n\\n\\nIn effect there are two different ways to run a company: founder mode and manager mode. Till now most people even in Silicon Valley have implicitly assumed that scaling a startup meant switching to manager mode. But we can infer the existence of another mode from the dismay of founders who\\'ve tried it, and the success of their attempts to escape from it.\\n\\n\\n\\nThere are as far as I know no books specifically about founder mode. Business schools don\\'t know it exists. All we have so far are the experiments of individual founders who\\'ve been figuring it out for themselves. But now that we know what we\\'re looking for, we can search for it. I hope in a few years founder mode will be as well understood as manager mode. We can already guess at some of the ways it will differ.\\n\\n\\n\\nThe way managers are taught to run companies seems to be like modular design in the sense that you treat subtrees of the org chart as black boxes. You tell your direct reports what to do, and it\\'s up to them to figure out how. But you don\\'t get involved in the details of what they do. That would be micromanaging them, which is bad.\\n\\n\\n\\nHire good people and give them room to do their jobs. Sounds great when it\\'s described that way, doesn\\'t it? Except in practice, judging from the report of founder after founder, what this often turns out to mean is: hire professional fakers and let them drive the company into the ground.\\n\\n\\n\\nOne theme I noticed both in Brian\\'s talk and when talking to founders afterward was the idea of being gaslit. Founders feel like they\\'re being gaslit from both sides — by the people telling them they have to run their companies like managers, and by the people working for them when they do. Usually when everyone around you disagrees with you, your default assumption should be that you\\'re mistaken. But this is one of the rare exceptions. VCs who haven\\'t been founders themselves don\\'t know how founders should run companies, and C-level execs, as a class, include some of the most skillful liars in the world. [ 1 ]\\n\\n\\n\\nWhatever founder mode consists of, it\\'s pretty clear that it\\'s going to break the principle that the CEO should engage with the company only via his or her direct reports. \"Skip-level\" meetings will become the norm instead of a practice so unusual that there\\'s a name for it. And once you abandon that constraint there are a huge number of permutations to choose from.\\n\\n\\n\\nFor example, Steve Jobs used to run an annual retreat for what he considered the 100 most important people at Apple, and these were not the 100 people highest on the org chart. Can you imagine the force of will it would take to do this at the average company? And yet imagine how useful such a thing could be. It could make a big company feel like a startup. Steve presumably wouldn\\'t have kept having these retreats if they didn\\'t work. But I\\'ve never heard of another company doing this. So is it a good idea, or a bad one? We still don\\'t know. That\\'s how little we know about founder mode. [ 2 ]\\n\\n\\n\\nObviously founders can\\'t keep running a 2000 person company the way they ran it when it had 20. There\\'s going to have to be some amount of delegation. Where the borders of autonomy end up, and how sharp they are, will probably vary from company to company. They\\'ll even vary from time to time within the same company, as managers earn trust. So founder mode will be more complicated than manager mode. But it will also work better. We already know that from the examples of individual founders groping their way toward it.\\n\\n\\n\\nIndeed, another prediction I\\'ll make about founder mode is that once we figure out what it is, we\\'ll find that a number of individual founders were already most of the way there — except that in doing what they did they were regarded by many as eccentric or worse. [ 3 ]\\n\\n\\n\\nCuriously enough it\\'s an encouraging thought that we still know so little about founder mode. Look at what founders have achieved already, and yet they\\'ve achieved this against a headwind of bad advice. Imagine what they\\'ll do once we can tell them how to run their companies like Steve Jobs instead of John Sculley.\\n\\n\\n\\n\\n\\n\\n\\n\\n\\n\\n\\n\\n\\n\\n\\n\\n\\n\\n\\nNotes\\n\\n\\n\\n[ 1 ] The more diplomatic way of phrasing this statement would be to say that experienced C-level execs are often very skilled at managing up. And I don\\'t think anyone with knowledge of this world would dispute that.\\n\\n\\n\\n[ 2 ] If the practice of having such retreats became so widespread that even mature companies dominated by politics started to do it, we could quantify the senescence of companies by the average depth on the org chart of those invited.\\n\\n\\n\\n[ 3 ] I also have another less optimistic prediction: as soon as the concept of founder mode becomes established, people will start misusing it. Founders who are unable to delegate even things they should will use founder mode as the excuse. Or managers who aren\\'t founders will decide they should try to act like founders. That may even work, to some extent, but the results will be messy when it doesn\\'t; the modular approach does at least limit the damage a bad CEO can do.\\n\\n\\n\\n\\n\\n\\n\\nThanks to Brian Chesky, Patrick Collison, Ron Conway, Jessica Livingston, Elon Musk, Ryan Petersen, Harj Taggar, and Garry Tan for reading drafts of this.\\n\\n\\n\\n\\n\\n\\n\\n'}\n"
     ]
    }
   ],
   "execution_count": 143
  },
  {
   "metadata": {
    "ExecuteTime": {
     "end_time": "2024-11-13T13:31:17.484889Z",
     "start_time": "2024-11-13T13:31:16.162884Z"
    }
   },
   "cell_type": "code",
   "source": [
    "# Now we will split on sentence boundaries using Spacy.\n",
    "# You will probably need to run python -m spacy download en_core_web_sm\n",
    "\n",
    "import spacy\n",
    "nlp = spacy.load('en_core_web_sm')\n",
    "\n",
    "sentencized = []\n",
    "for article in articles:\n",
    "    sentences = [str(s).strip() for s in nlp(article['text']).sents]\n",
    "    sentencized.append(sentences)"
   ],
   "id": "7a7188a551f0379f",
   "outputs": [],
   "execution_count": 144
  },
  {
   "metadata": {
    "ExecuteTime": {
     "end_time": "2024-11-13T13:31:20.632167Z",
     "start_time": "2024-11-13T13:31:20.628253Z"
    }
   },
   "cell_type": "code",
   "source": [
    "# Let's see what one of the split articles looks like now.\n",
    "\n",
    "sentencized[2][:10]"
   ],
   "id": "a1fa2dfb7173e3f1",
   "outputs": [
    {
     "data": {
      "text/plain": [
       "[\"How to Work Hard\\n\\n\\n\\n\\n\\n\\n\\n\\nJune 2021\\n\\n\\n\\nIt might not seem there's much to learn about how to work hard.\",\n",
       " \"Anyone who's been to school knows what it entails, even if they chose not to do it.\",\n",
       " 'There are 12 year olds who work amazingly hard.',\n",
       " 'And yet when I ask if I know more about working hard now than when I was in school, the answer is definitely yes.',\n",
       " \"One thing I know is that if you want to do great things, you'll have to work very hard.\",\n",
       " \"I wasn't sure of that as a kid.\",\n",
       " \"Schoolwork varied in difficulty; one didn't always have to work super hard to do well.\",\n",
       " 'And some of the things famous adults did, they seemed to do almost effortlessly.',\n",
       " 'Was there, perhaps, some way to evade hard work through sheer brilliance?',\n",
       " 'Now I know the answer to that question.']"
      ]
     },
     "execution_count": 145,
     "metadata": {},
     "output_type": "execute_result"
    }
   ],
   "execution_count": 145
  },
  {
   "metadata": {
    "ExecuteTime": {
     "end_time": "2024-11-13T13:31:32.748534Z",
     "start_time": "2024-11-13T13:31:32.744885Z"
    }
   },
   "cell_type": "code",
   "source": [
    "# We will create chunks of 10 sentences overlapping by 2 sentences. \n",
    "\n",
    "def create_chunks(sent, chunk_size=10, overlap=2):\n",
    "    return [' '.join(sent[i:i+chunk_size]) for i in range(0, len(sent), chunk_size-overlap)]\n",
    "\n",
    "chunkized = []\n",
    "for sentences in sentencized:\n",
    "    chunkized.append(create_chunks(sentences, chunk_size=10, overlap=2))"
   ],
   "id": "61a10b4c77309bfb",
   "outputs": [],
   "execution_count": 146
  },
  {
   "metadata": {},
   "cell_type": "markdown",
   "source": "## Step 2: Add context to each chunk using a faster LLM",
   "id": "fe5058abeadf7c14"
  },
  {
   "metadata": {
    "ExecuteTime": {
     "end_time": "2024-11-13T10:46:00.853730Z",
     "start_time": "2024-11-13T10:46:00.851347Z"
    }
   },
   "cell_type": "code",
   "source": [
    "# Set up the OPENAI environment variable.\n",
    "\n",
    "import getpass\n",
    "import os\n",
    "\n",
    "\n",
    "def _set_env(var: str):\n",
    "    if os.environ.get(var):\n",
    "        return\n",
    "    os.environ[var] = getpass.getpass(var + \":\")"
   ],
   "id": "930d44232024c732",
   "outputs": [],
   "execution_count": 32
  },
  {
   "metadata": {
    "ExecuteTime": {
     "end_time": "2024-11-13T10:46:15.701899Z",
     "start_time": "2024-11-13T10:46:13.826083Z"
    }
   },
   "cell_type": "code",
   "source": "_set_env(\"OPENAI_API_KEY\")",
   "id": "8bfa2eb1e7750560",
   "outputs": [],
   "execution_count": 33
  },
  {
   "metadata": {
    "ExecuteTime": {
     "end_time": "2024-11-13T12:43:56.652734Z",
     "start_time": "2024-11-13T12:43:56.637812Z"
    }
   },
   "cell_type": "code",
   "source": [
    "# Set up the chain to generate the contextual header for each chunk.\n",
    "\n",
    "from langchain_core.prompts import ChatPromptTemplate\n",
    "from langchain_openai import ChatOpenAI\n",
    "from langchain_core.output_parsers import StrOutputParser\n",
    "\n",
    "fast_llm = ChatOpenAI(model=\"gpt-4o-mini\")\n",
    "str_parser = StrOutputParser()\n",
    "\n",
    "contextual_rag_message = \"\"\"\n",
    "Given the document below, we want to explain what the chunk captures in the document.\n",
    "\n",
    "DOCUMENT:\n",
    "{document}\n",
    "\n",
    "Here is the chunk we want to explain:\n",
    "\n",
    "CHUNK:\n",
    "{chunk}\n",
    "\n",
    "Answer ONLY with a succinct explanation of the meaning of the chunk in the context of the whole document above.\n",
    "\"\"\"\n",
    "\n",
    "contextual_rag_prompt = ChatPromptTemplate.from_messages((\"human\", contextual_rag_message))\n",
    "\n",
    "context_chain = contextual_rag_prompt | fast_llm | str_parser"
   ],
   "id": "5be107086c74e5ed",
   "outputs": [],
   "execution_count": 89
  },
  {
   "metadata": {
    "ExecuteTime": {
     "end_time": "2024-11-13T10:47:18.222423Z",
     "start_time": "2024-11-13T10:47:14.302768Z"
    }
   },
   "cell_type": "code",
   "source": [
    "# We will try it out with one chunk first.\n",
    "\n",
    "context_chain.invoke(input={'document': articles[0]['text'], 'chunk': chunkized[0][0]})"
   ],
   "id": "d8211b8ce2fd77df",
   "outputs": [
    {
     "data": {
      "text/plain": [
       "'The chunk introduces the central theme of the document, which is the potential for wealth creation through starting or joining a startup. It emphasizes that startups, particularly in the technology sector, have historically been reliable avenues for generating wealth. The comparison to medieval trading voyages suggests that startups operate in a high-risk, high-reward environment, tackling challenging technical problems to innovate and create value. This sets the stage for a deeper exploration of the dynamics, benefits, and challenges associated with startups throughout the rest of the essay.'"
      ]
     },
     "execution_count": 36,
     "metadata": {},
     "output_type": "execute_result"
    }
   ],
   "execution_count": 36
  },
  {
   "metadata": {
    "ExecuteTime": {
     "end_time": "2024-11-13T12:55:27.185225Z",
     "start_time": "2024-11-13T12:48:59.014777Z"
    }
   },
   "cell_type": "code",
   "source": [
    "# Now that we know it works, we can generate a header for each chunk.\n",
    "\n",
    "chunks_with_context = []\n",
    "\n",
    "for i, article in enumerate(articles):\n",
    "    print(f\"Contextualizing article {i+1} / {len(articles)}\")\n",
    "    article_chunks = []\n",
    "    for j, chunk in enumerate(chunkized[i]):\n",
    "        print(f\"Contextualizing chunk {j+1} / {len(chunkized[i])}\")\n",
    "        explanation = context_chain.invoke(input={'document': article['text'], 'chunk': chunk})\n",
    "        full_chunk = f\"{explanation}\\n\\n{chunk}\"\n",
    "        article_chunks.append(full_chunk)\n",
    "    chunks_with_context.append(article_chunks)        "
   ],
   "id": "c028e77d0f37f41a",
   "outputs": [
    {
     "name": "stdout",
     "output_type": "stream",
     "text": [
      "Contextualizing article 1 / 3\n",
      "Contextualizing chunk 1 / 71\n",
      "Contextualizing chunk 2 / 71\n",
      "Contextualizing chunk 3 / 71\n",
      "Contextualizing chunk 4 / 71\n",
      "Contextualizing chunk 5 / 71\n",
      "Contextualizing chunk 6 / 71\n",
      "Contextualizing chunk 7 / 71\n",
      "Contextualizing chunk 8 / 71\n",
      "Contextualizing chunk 9 / 71\n",
      "Contextualizing chunk 10 / 71\n",
      "Contextualizing chunk 11 / 71\n",
      "Contextualizing chunk 12 / 71\n",
      "Contextualizing chunk 13 / 71\n",
      "Contextualizing chunk 14 / 71\n",
      "Contextualizing chunk 15 / 71\n",
      "Contextualizing chunk 16 / 71\n",
      "Contextualizing chunk 17 / 71\n",
      "Contextualizing chunk 18 / 71\n",
      "Contextualizing chunk 19 / 71\n",
      "Contextualizing chunk 20 / 71\n",
      "Contextualizing chunk 21 / 71\n",
      "Contextualizing chunk 22 / 71\n",
      "Contextualizing chunk 23 / 71\n",
      "Contextualizing chunk 24 / 71\n",
      "Contextualizing chunk 25 / 71\n",
      "Contextualizing chunk 26 / 71\n",
      "Contextualizing chunk 27 / 71\n",
      "Contextualizing chunk 28 / 71\n",
      "Contextualizing chunk 29 / 71\n",
      "Contextualizing chunk 30 / 71\n",
      "Contextualizing chunk 31 / 71\n",
      "Contextualizing chunk 32 / 71\n",
      "Contextualizing chunk 33 / 71\n",
      "Contextualizing chunk 34 / 71\n",
      "Contextualizing chunk 35 / 71\n",
      "Contextualizing chunk 36 / 71\n",
      "Contextualizing chunk 37 / 71\n",
      "Contextualizing chunk 38 / 71\n",
      "Contextualizing chunk 39 / 71\n",
      "Contextualizing chunk 40 / 71\n",
      "Contextualizing chunk 41 / 71\n",
      "Contextualizing chunk 42 / 71\n",
      "Contextualizing chunk 43 / 71\n",
      "Contextualizing chunk 44 / 71\n",
      "Contextualizing chunk 45 / 71\n",
      "Contextualizing chunk 46 / 71\n",
      "Contextualizing chunk 47 / 71\n",
      "Contextualizing chunk 48 / 71\n",
      "Contextualizing chunk 49 / 71\n",
      "Contextualizing chunk 50 / 71\n",
      "Contextualizing chunk 51 / 71\n",
      "Contextualizing chunk 52 / 71\n",
      "Contextualizing chunk 53 / 71\n",
      "Contextualizing chunk 54 / 71\n",
      "Contextualizing chunk 55 / 71\n",
      "Contextualizing chunk 56 / 71\n",
      "Contextualizing chunk 57 / 71\n",
      "Contextualizing chunk 58 / 71\n",
      "Contextualizing chunk 59 / 71\n",
      "Contextualizing chunk 60 / 71\n",
      "Contextualizing chunk 61 / 71\n",
      "Contextualizing chunk 62 / 71\n",
      "Contextualizing chunk 63 / 71\n",
      "Contextualizing chunk 64 / 71\n",
      "Contextualizing chunk 65 / 71\n",
      "Contextualizing chunk 66 / 71\n",
      "Contextualizing chunk 67 / 71\n",
      "Contextualizing chunk 68 / 71\n",
      "Contextualizing chunk 69 / 71\n",
      "Contextualizing chunk 70 / 71\n",
      "Contextualizing chunk 71 / 71\n",
      "Contextualizing article 2 / 3\n",
      "Contextualizing chunk 1 / 9\n",
      "Contextualizing chunk 2 / 9\n",
      "Contextualizing chunk 3 / 9\n",
      "Contextualizing chunk 4 / 9\n",
      "Contextualizing chunk 5 / 9\n",
      "Contextualizing chunk 6 / 9\n",
      "Contextualizing chunk 7 / 9\n",
      "Contextualizing chunk 8 / 9\n",
      "Contextualizing chunk 9 / 9\n",
      "Contextualizing article 3 / 3\n",
      "Contextualizing chunk 1 / 24\n",
      "Contextualizing chunk 2 / 24\n",
      "Contextualizing chunk 3 / 24\n",
      "Contextualizing chunk 4 / 24\n",
      "Contextualizing chunk 5 / 24\n",
      "Contextualizing chunk 6 / 24\n",
      "Contextualizing chunk 7 / 24\n",
      "Contextualizing chunk 8 / 24\n",
      "Contextualizing chunk 9 / 24\n",
      "Contextualizing chunk 10 / 24\n",
      "Contextualizing chunk 11 / 24\n",
      "Contextualizing chunk 12 / 24\n",
      "Contextualizing chunk 13 / 24\n",
      "Contextualizing chunk 14 / 24\n",
      "Contextualizing chunk 15 / 24\n",
      "Contextualizing chunk 16 / 24\n",
      "Contextualizing chunk 17 / 24\n",
      "Contextualizing chunk 18 / 24\n",
      "Contextualizing chunk 19 / 24\n",
      "Contextualizing chunk 20 / 24\n",
      "Contextualizing chunk 21 / 24\n",
      "Contextualizing chunk 22 / 24\n",
      "Contextualizing chunk 23 / 24\n",
      "Contextualizing chunk 24 / 24\n"
     ]
    }
   ],
   "execution_count": 91
  },
  {
   "metadata": {
    "ExecuteTime": {
     "end_time": "2024-11-13T13:09:25.072391Z",
     "start_time": "2024-11-13T13:09:25.069576Z"
    }
   },
   "cell_type": "code",
   "source": [
    "# Let's take a look at what we got for one of the chunks.\n",
    "\n",
    "print(chunks_with_context[0][2])"
   ],
   "id": "ec472345b5037305",
   "outputs": [
    {
     "name": "stdout",
     "output_type": "stream",
     "text": [
      "The chunk discusses the economic dynamics of startups, emphasizing that they allow individuals to accelerate their work life by focusing intensely for a short period, typically four years, instead of spreading their efforts over decades in traditional jobs. It outlines a hypothetical scenario in which a skilled hacker can achieve significantly higher productivity—potentially up to 36 times that of a corporate job—by working in a startup environment. This increased productivity is attributed to factors such as longer working hours, enhanced focus, and the absence of bureaucratic obstacles, ultimately presenting startups as a lucrative avenue for wealth creation in the technology sector.\n",
      "\n",
      "The Proposition\n",
      "\n",
      "\n",
      "\n",
      "Economically, you can think of a startup as a way to compress your whole working life into a few years. Instead of working at a low intensity for forty years, you work as hard as you possibly can for four. This pays especially well in technology, where you earn a premium for working fast. Here is a brief sketch of the economic proposition. If you're a good hacker in your mid twenties, you can get a job paying about $80,000 per year. So on average such a hacker must be able to do at least $80,000 worth of work per year for the company just to break even. You could probably work twice as many hours as a corporate employee, and if you focus you can probably get three times as much done in an hour. [ 1 ] You should get another multiple of two, at least, by eliminating the drag of the pointy-haired middle manager who would be your boss in a big company. Then there is one more multiple: how much smarter are you than your job description expects you to be? Suppose another multiple of three.\n"
     ]
    }
   ],
   "execution_count": 130
  },
  {
   "metadata": {},
   "cell_type": "markdown",
   "source": [
    "## Step 3: Hybrid retrieval\n",
    "\n",
    "*We will generate embeddings for each chunk and also create a BM25 retriever. We will fuse the results of the two retrievers using a reranking algorithm to generate the final context that we will feed to the question-answering LLM.*"
   ],
   "id": "683defcbb87c2a24"
  },
  {
   "metadata": {
    "ExecuteTime": {
     "end_time": "2024-11-13T12:56:45.450992Z",
     "start_time": "2024-11-13T12:56:39.890664Z"
    }
   },
   "cell_type": "code",
   "source": [
    "# Let's create the retrievers.\n",
    "\n",
    "from langchain_chroma import Chroma\n",
    "from langchain_openai import OpenAIEmbeddings\n",
    "from langchain_community.retrievers import BM25Retriever\n",
    "\n",
    "# Make a flat list of chunks.\n",
    "all_chunks = []\n",
    "for article_chunks in chunks_with_context:\n",
    "    all_chunks.extend(article_chunks)\n",
    "\n",
    "vectorstore = Chroma.from_texts(texts=all_chunks, embedding=OpenAIEmbeddings(model=\"text-embedding-3-large\"))\n",
    "vector_retriever = vectorstore.as_retriever(search_type=\"similarity\", search_kwargs={\"k\": 5})\n",
    "\n",
    "tfidf_retriever = BM25Retriever.from_texts(texts=all_chunks, k=5)"
   ],
   "id": "c9eebfd6007e597a",
   "outputs": [],
   "execution_count": 93
  },
  {
   "metadata": {
    "ExecuteTime": {
     "end_time": "2024-11-13T13:29:10.259731Z",
     "start_time": "2024-11-13T13:29:09.124064Z"
    }
   },
   "cell_type": "code",
   "source": [
    "# Now let's ask a question that can be answered from the documents we ingested.\n",
    "\n",
    "question = \"How can I compress my career into as short a time as possible?\"\n",
    "\n",
    "vector_results = vector_retriever.invoke(question)\n",
    "tfidf_results = tfidf_retriever.invoke(question)"
   ],
   "id": "acd0b418b8fd77eb",
   "outputs": [],
   "execution_count": 137
  },
  {
   "metadata": {
    "ExecuteTime": {
     "end_time": "2024-11-13T13:29:10.840179Z",
     "start_time": "2024-11-13T13:29:10.837356Z"
    }
   },
   "cell_type": "code",
   "source": [
    "# How many results did we get from each retriever? (Should be k=5)\n",
    "\n",
    "print(f\"Vector results: {len(vector_results)}\")\n",
    "print(f\"TF-IDF results: {len(tfidf_results)}\")"
   ],
   "id": "8c076ce9f7088324",
   "outputs": [
    {
     "name": "stdout",
     "output_type": "stream",
     "text": [
      "Vector results: 5\n",
      "TF-IDF results: 5\n"
     ]
    }
   ],
   "execution_count": 138
  },
  {
   "metadata": {},
   "cell_type": "markdown",
   "source": "## Step 4: Reciprocal Rank Fusion to combine query results from retrievers",
   "id": "d1b4a415e277b762"
  },
  {
   "metadata": {
    "ExecuteTime": {
     "end_time": "2024-11-13T13:29:13.479813Z",
     "start_time": "2024-11-13T13:29:13.477155Z"
    }
   },
   "cell_type": "code",
   "source": [
    "# This has the effect of combining the results of both retrievers into one,\n",
    "# so that results that appear in both sets have a higher rank.\n",
    "# It will also remove duplicate results.\n",
    "\n",
    "from collections import defaultdict\n",
    "from langchain.load import dumps, loads\n",
    "\n",
    "\n",
    "def recriprocal_rank_fusion(*list_of_results_lists, k=60):\n",
    "    rrf_ranks = defaultdict(float)\n",
    "    \n",
    "    for result_list in list_of_results_lists:\n",
    "        for rank, result in enumerate(result_list, 1):\n",
    "            str_result = dumps(result)\n",
    "            rrf_ranks[str_result] += 1 / (rank + k)\n",
    "            \n",
    "    sorted_results = sorted(rrf_ranks.items(), key=lambda x: x[1], reverse=True)\n",
    "    return [loads(k) for k, v in sorted_results]\n",
    "\n",
    "\n",
    "fused_results = recriprocal_rank_fusion(vector_results, tfidf_results)"
   ],
   "id": "ea5da24383e3fd1e",
   "outputs": [],
   "execution_count": 139
  },
  {
   "metadata": {
    "ExecuteTime": {
     "end_time": "2024-11-13T13:29:15.837653Z",
     "start_time": "2024-11-13T13:29:15.833417Z"
    }
   },
   "cell_type": "code",
   "source": [
    "# Let's see how many results we have now that we have removed duplicates.\n",
    "\n",
    "len(fused_results)"
   ],
   "id": "60b0e1b01cb459c",
   "outputs": [
    {
     "data": {
      "text/plain": [
       "9"
      ]
     },
     "execution_count": 140,
     "metadata": {},
     "output_type": "execute_result"
    }
   ],
   "execution_count": 140
  },
  {
   "metadata": {},
   "cell_type": "markdown",
   "source": [
    "## Step 5: Feed the context and the question to an LLM to answer the question.\n",
    "\n",
    "*We are using a simple RAG prompt from the Langchain Hub. It is geared towards producing short answers.*"
   ],
   "id": "9d6103f13b281f4c"
  },
  {
   "metadata": {
    "ExecuteTime": {
     "end_time": "2024-11-13T13:48:34.965307Z",
     "start_time": "2024-11-13T13:48:31.692857Z"
    }
   },
   "cell_type": "code",
   "source": [
    "from langchain import hub\n",
    "from langchain_core.output_parsers import StrOutputParser\n",
    "\n",
    "\n",
    "def format_docs(docs):\n",
    "    return \"\\n\\n\".join(doc.page_content for doc in docs)\n",
    "\n",
    "\n",
    "long_context_llm = ChatOpenAI(model=\"gpt-4o\")\n",
    "rag_prompt = hub.pull(\"rlm/rag-prompt\")\n",
    "\n",
    "# Let's check the prompt that is will be fed to the LLM\n",
    "rag_prompt.invoke(input={\n",
    "    'question': question, \n",
    "    'context': format_docs(fused_results[:5])   # We will use the top 5\n",
    "})"
   ],
   "id": "7d2213590c6961bc",
   "outputs": [
    {
     "name": "stderr",
     "output_type": "stream",
     "text": [
      "/Users/evandempsey/git/ai-notebooks/venv/lib/python3.11/site-packages/langsmith/client.py:354: LangSmithMissingAPIKeyWarning: API key must be provided when using hosted LangSmith API\n",
      "  warnings.warn(\n"
     ]
    },
    {
     "data": {
      "text/plain": [
       "ChatPromptValue(messages=[HumanMessage(content='You are an assistant for question-answering tasks. Use the following pieces of retrieved context to answer the question. If you don\\'t know the answer, just say that you don\\'t know. Use three sentences maximum and keep the answer concise.\\nQuestion: How can I compress my career into as short a time as possible? \\nContext: The chunk discusses the economic dynamics of startups, emphasizing that they allow individuals to accelerate their work life by focusing intensely for a short period, typically four years, instead of spreading their efforts over decades in traditional jobs. It outlines a hypothetical scenario in which a skilled hacker can achieve significantly higher productivity—potentially up to 36 times that of a corporate job—by working in a startup environment. This increased productivity is attributed to factors such as longer working hours, enhanced focus, and the absence of bureaucratic obstacles, ultimately presenting startups as a lucrative avenue for wealth creation in the technology sector.\\n\\nThe Proposition\\n\\n\\n\\nEconomically, you can think of a startup as a way to compress your whole working life into a few years. Instead of working at a low intensity for forty years, you work as hard as you possibly can for four. This pays especially well in technology, where you earn a premium for working fast. Here is a brief sketch of the economic proposition. If you\\'re a good hacker in your mid twenties, you can get a job paying about $80,000 per year. So on average such a hacker must be able to do at least $80,000 worth of work per year for the company just to break even. You could probably work twice as many hours as a corporate employee, and if you focus you can probably get three times as much done in an hour. [ 1 ] You should get another multiple of two, at least, by eliminating the drag of the pointy-haired middle manager who would be your boss in a big company. Then there is one more multiple: how much smarter are you than your job description expects you to be? Suppose another multiple of three.\\n\\nThe chunk discusses the economic advantages of working intensively in a startup environment compared to traditional corporate jobs. It emphasizes the potential for high productivity and earnings in a shorter timeframe by leveraging skills and eliminating managerial overhead. This aligns with the document\\'s overall theme that hard work, dedication, and focused effort are crucial for achieving significant success, particularly in challenging fields like technology. It highlights the idea that intense effort in a concentrated period can yield greater rewards than a prolonged, low-intensity work life.\\n\\nThe Proposition\\n\\n\\n\\nEconomically, you can think of a startup as a way to compress your whole working life into a few years. Instead of working at a low intensity for forty years, you work as hard as you possibly can for four. This pays especially well in technology, where you earn a premium for working fast. Here is a brief sketch of the economic proposition. If you\\'re a good hacker in your mid twenties, you can get a job paying about $80,000 per year. So on average such a hacker must be able to do at least $80,000 worth of work per year for the company just to break even. You could probably work twice as many hours as a corporate employee, and if you focus you can probably get three times as much done in an hour. [ 1 ] You should get another multiple of two, at least, by eliminating the drag of the pointy-haired middle manager who would be your boss in a big company. Then there is one more multiple: how much smarter are you than your job description expects you to be? Suppose another multiple of three.\\n\\nThe chunk discusses the author\\'s realization that formal education, particularly school, often distorts the understanding of what constitutes \"real work,\" making it seem tedious and unappealing. The author reflects on the need to discover the true essence of work to develop a genuine passion for it, drawing on Hardy\\'s experience with mathematics as an example. This insight emphasizes that a deeper understanding of one\\'s field is essential for fostering a love for work, aligning with the document\\'s broader theme of the relationship between hard work, passion, and genuine interest in one\\'s pursuits.\\n\\nThat would make sense. Strangely enough, the biggest obstacle to getting serious about work was probably school, which made work (what they called work) seem boring and pointless. I had to learn what real work was before I could wholeheartedly desire to do it. That took a while, because even in college a lot of the work is pointless; there are entire departments that are pointless. But as I learned the shape of real work, I found that my desire to do it slotted into it as if they\\'d been made for each other. I suspect most people have to learn what work is before they can love it. Hardy wrote eloquently about this in A Mathematician\\'s Apology: I do not remember having felt, as a boy, any passion for mathematics, and such notions as I may have had of the career of a mathematician were far from noble. I thought of mathematics in terms of examinations and scholarships: I wanted to beat other boys, and this seemed to be the way in which I could do so most decisively. He didn\\'t learn what math was really about till part way through college, when he read Jordan\\'s Cours d\\'analyse. I shall never forget the astonishment with which I read that remarkable work, the first inspiration for so many mathematicians of my generation, and learnt for the first time as I read it what mathematics really meant.\\n\\nThe chunk discusses the economic rationale behind startups, emphasizing the intense effort and productivity of founders and skilled workers in a short timeframe compared to traditional corporate roles. It highlights how this compressed work model allows for greater financial rewards, particularly in technology, where efficiency and innovation are highly valued. This ties into the broader theme of the document, which contrasts the effective \"founder mode\" of running a company with the less effective \"manager mode,\" suggesting that founders can achieve significantly more by leveraging their unique skills and work ethic.\\n\\nThe Proposition\\n\\n\\n\\nEconomically, you can think of a startup as a way to compress your whole working life into a few years. Instead of working at a low intensity for forty years, you work as hard as you possibly can for four. This pays especially well in technology, where you earn a premium for working fast. Here is a brief sketch of the economic proposition. If you\\'re a good hacker in your mid twenties, you can get a job paying about $80,000 per year. So on average such a hacker must be able to do at least $80,000 worth of work per year for the company just to break even. You could probably work twice as many hours as a corporate employee, and if you focus you can probably get three times as much done in an hour. [ 1 ] You should get another multiple of two, at least, by eliminating the drag of the pointy-haired middle manager who would be your boss in a big company. Then there is one more multiple: how much smarter are you than your job description expects you to be? Suppose another multiple of three.\\n\\nThe chunk emphasizes the nature of startups as small companies focused on tackling challenging technical issues, suggesting that understanding the fundamentals can provide a competitive advantage. It introduces the idea that startups allow individuals to accelerate their wealth creation by concentrating intense work into a shorter timeframe, contrasting this with the traditional long-term employment model. This sets the stage for the overall argument that startups represent a unique opportunity to generate significant wealth through innovation and hard work, as discussed throughout the document.\\n\\nA startup is a small company that takes on a hard technical problem. Lots of people get rich knowing nothing more than that. You don\\'t have to know physics to be a good pitcher. But I think it could give you an edge to understand the underlying principles. Why do startups have to be small? Will a startup inevitably stop being a startup as it grows larger? And why do they so often work on developing new technology? Why are there so many startups selling new drugs or computer software, and none selling corn oil or laundry detergent? The Proposition\\n\\n\\n\\nEconomically, you can think of a startup as a way to compress your whole working life into a few years. Instead of working at a low intensity for forty years, you work as hard as you possibly can for four. \\nAnswer:', additional_kwargs={}, response_metadata={})])"
      ]
     },
     "execution_count": 147,
     "metadata": {},
     "output_type": "execute_result"
    }
   ],
   "execution_count": 147
  },
  {
   "metadata": {
    "ExecuteTime": {
     "end_time": "2024-11-13T13:48:50.730505Z",
     "start_time": "2024-11-13T13:48:47.906904Z"
    }
   },
   "cell_type": "code",
   "source": [
    "# Now let's generate the final answer.\n",
    "\n",
    "rag_chain = rag_prompt | long_context_llm | StrOutputParser()\n",
    "\n",
    "rag_chain.invoke(input={\n",
    "    'question': question, \n",
    "    'context': format_docs(fused_results[:5])\n",
    "})"
   ],
   "id": "9ed1aae22066d4f0",
   "outputs": [
    {
     "data": {
      "text/plain": [
       "'To compress your career into as short a time as possible, consider working intensely in a startup environment where you can focus and eliminate bureaucratic obstacles, potentially achieving significantly higher productivity. This approach allows you to concentrate your efforts into a few years, particularly in technology, where rapid work can yield substantial financial rewards. By leveraging your skills and working longer hours, you can achieve the equivalent of decades of traditional corporate work in a much shorter timeframe.'"
      ]
     },
     "execution_count": 148,
     "metadata": {},
     "output_type": "execute_result"
    }
   ],
   "execution_count": 148
  },
  {
   "metadata": {},
   "cell_type": "code",
   "outputs": [],
   "execution_count": null,
   "source": "",
   "id": "ccb02d4ee3e81326"
  }
 ],
 "metadata": {
  "kernelspec": {
   "display_name": "Python 3",
   "language": "python",
   "name": "python3"
  },
  "language_info": {
   "codemirror_mode": {
    "name": "ipython",
    "version": 2
   },
   "file_extension": ".py",
   "mimetype": "text/x-python",
   "name": "python",
   "nbconvert_exporter": "python",
   "pygments_lexer": "ipython2",
   "version": "2.7.6"
  }
 },
 "nbformat": 4,
 "nbformat_minor": 5
}
